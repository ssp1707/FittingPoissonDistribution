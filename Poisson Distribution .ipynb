{
 "cells": [
  {
   "cell_type": "code",
   "execution_count": 1,
   "metadata": {},
   "outputs": [],
   "source": [
    "import numpy as np\n",
    "import math\n",
    "import scipy.stats\n",
    "X=[0,1,2,3,4,5,6]\n",
    "f=[153,169,72,31,12,6,2]"
   ]
  },
  {
   "cell_type": "code",
   "execution_count": 2,
   "metadata": {},
   "outputs": [
    {
     "name": "stdout",
     "output_type": "stream",
     "text": [
      "  X P(X=x) Obs.Fr  Ex.Fre   xi \n",
      "----------------------------------\n",
      "0.00 0.33  153.00   145.98  0.34\n",
      "1.00 0.37  169.00   162.71  0.24\n",
      "2.00 0.20  72.00   90.68  3.85\n",
      "3.00 0.08  31.00   33.69  0.21\n",
      "4.00 0.02  12.00   9.39  0.73\n",
      "5.00 0.00  6.00   2.09  7.29\n",
      "6.00 0.00  2.00   0.39  6.68\n",
      "----------------------------------\n"
     ]
    }
   ],
   "source": [
    "n=6\n",
    "N=np.sum(f)\n",
    "mean=np.inner(X,f)/N\n",
    "P=list(); E=list(); xi=list()\n",
    "print(\"  X P(X=x) Obs.Fr  Ex.Fre   xi \")\n",
    "print(\"----------------------------------\")\n",
    "for x in range(7):\n",
    "    P.append(math.exp(-mean)*mean**x/math.factorial(x))\n",
    "    E.append(P[x]*N)\n",
    "    xi.append((f[x]-E[x])**2/E[x])\n",
    "    print(\"%2.2f %2.2f  %4.2f   %3.2f  %3.2f\"%(x,P[x],f[x],E[x],xi[x]))\n",
    "print(\"----------------------------------\")"
   ]
  },
  {
   "cell_type": "code",
   "execution_count": 3,
   "metadata": {},
   "outputs": [
    {
     "name": "stdout",
     "output_type": "stream",
     "text": [
      "Calculated value of Chi square is 19.34\n"
     ]
    }
   ],
   "source": [
    "cal_val=np.sum(xi)\n",
    "print(\"Calculated value of Chi square is %4.2f\"%cal_val)"
   ]
  },
  {
   "cell_type": "code",
   "execution_count": 4,
   "metadata": {},
   "outputs": [
    {
     "name": "stdout",
     "output_type": "stream",
     "text": [
      "Table value of Chi square at 1  level is 16.81\n"
     ]
    }
   ],
   "source": [
    "tab_val=scipy.stats.chi2.ppf(1-.01, df=n)\n",
    "print(\"Table value of Chi square at 1  level is %4.2f\"%tab_val)"
   ]
  },
  {
   "cell_type": "code",
   "execution_count": 5,
   "metadata": {},
   "outputs": [
    {
     "name": "stdout",
     "output_type": "stream",
     "text": [
      "The given data cannot be fitted in Poisson distribution at 1% LOS\n"
     ]
    }
   ],
   "source": [
    "if cal_val<tab_val:\n",
    "    print(\"The given data can be fitted in Poissson distribution at 1% LOS\")\n",
    "else:\n",
    "    print(\"The given data cannot be fitted in Poisson distribution at 1% LOS\")\n",
    "    "
   ]
  }
 ],
 "metadata": {
  "kernelspec": {
   "display_name": "Python 3",
   "language": "python",
   "name": "python3"
  },
  "language_info": {
   "codemirror_mode": {
    "name": "ipython",
    "version": 3
   },
   "file_extension": ".py",
   "mimetype": "text/x-python",
   "name": "python",
   "nbconvert_exporter": "python",
   "pygments_lexer": "ipython3",
   "version": "3.8.5"
  }
 },
 "nbformat": 4,
 "nbformat_minor": 4
}
